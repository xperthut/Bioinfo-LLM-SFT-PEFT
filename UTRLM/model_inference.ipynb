{
 "cells": [
  {
   "cell_type": "code",
   "execution_count": 1,
   "metadata": {},
   "outputs": [
    {
     "name": "stderr",
     "output_type": "stream",
     "text": [
      "/opt/miniconda3/envs/torch_cuda_128/lib/python3.12/site-packages/tqdm/auto.py:21: TqdmWarning: IProgress not found. Please update jupyter and ipywidgets. See https://ipywidgets.readthedocs.io/en/stable/user_install.html\n",
      "  from .autonotebook import tqdm as notebook_tqdm\n"
     ]
    }
   ],
   "source": [
    "import torch\n",
    "import pytorch_lightning as L\n",
    "from multimolecule import RnaTokenizer\n",
    "import utrlm\n",
    "\n",
    "torch.set_float32_matmul_precision('high')"
   ]
  },
  {
   "cell_type": "code",
   "execution_count": 4,
   "metadata": {},
   "outputs": [
    {
     "name": "stderr",
     "output_type": "stream",
     "text": [
      "Some weights of UtrLmForSequencePrediction were not initialized from the model checkpoint at multimolecule/utrlm-te_el and are newly initialized: ['sequence_head.decoder.bias', 'sequence_head.decoder.weight', 'utrlm.pooler.dense.bias', 'utrlm.pooler.dense.weight']\n",
      "You should probably TRAIN this model on a down-stream task to be able to use it for predictions and inference.\n",
      "💡 Tip: For seamless cloud uploads and versioning, try installing [litmodels](https://pypi.org/project/litmodels/) to enable LitModelCheckpoint, which syncs automatically with the Lightning model registry.\n",
      "GPU available: True (mps), used: True\n",
      "TPU available: False, using: 0 TPU cores\n",
      "HPU available: False, using: 0 HPUs\n"
     ]
    }
   ],
   "source": [
    "utrlm_base_model = \"multimolecule/utrlm-te_el\"\n",
    "utrlm_ckpt = \"/Users/mkamruz/Public/SNL/Projects/5UTR/UTRLM_Ckpt/cao2021/epoch=05-val_loss=0.459-v1.ckpt\"\n",
    "test_data_csv = \"/Users/mkamruz/Public/SNL/Projects/5UTR/Data/random_25mers_10M.csv\"\n",
    "\n",
    "utrlm_model = utrlm.UTRLMClassifier.load_from_checkpoint(utrlm_ckpt)\n",
    "utrlm_model.eval()\n",
    "\n",
    "utrlm_tokenizer = RnaTokenizer.from_pretrained(utrlm_base_model)\n",
    "\n",
    "utrlm_dl = utrlm.DNADataModule(test_data=test_data_csv, \n",
    "                               batch_size=1024,\n",
    "                               max_length=512, \n",
    "                               tokenizer=utrlm_tokenizer,\n",
    "                               num_workers=10,\n",
    "                               pin_memory=False\n",
    "                               )\n",
    "utrlm_dl.setup()\n",
    "utrlm_dl = utrlm_dl.test_dataloader()\n",
    "\n",
    "trainer = L.Trainer(\n",
    "    accelerator=\"auto\",\n",
    "    devices=1,\n",
    "    precision=32\n",
    ")"
   ]
  },
  {
   "cell_type": "code",
   "execution_count": 5,
   "metadata": {},
   "outputs": [
    {
     "name": "stderr",
     "output_type": "stream",
     "text": [
      "/opt/miniconda3/envs/torch_cuda_128/lib/python3.12/site-packages/pytorch_lightning/trainer/connectors/data_connector.py:420: Consider setting `persistent_workers=True` in 'predict_dataloader' to speed up the dataloader worker initialization.\n"
     ]
    },
    {
     "name": "stdout",
     "output_type": "stream",
     "text": [
      "Predicting DataLoader 0:   0%|          | 0/9766 [00:00<?, ?it/s]Error during prediction: Invalid buffer size: 16.00 GB\n"
     ]
    }
   ],
   "source": [
    "try:\n",
    "    utrlm_preds = trainer.predict(utrlm_model, utrlm_dl, return_predictions=True, )\n",
    "    res = []\n",
    "    for pred in utrlm_preds:\n",
    "        res.extend(pred.tolist())\n",
    "    len(res)\n",
    "    \n",
    "except Exception as e:\n",
    "    print(f\"Error during prediction: {e}\")\n",
    "    utrlm_preds = None"
   ]
  }
 ],
 "metadata": {
  "kernelspec": {
   "display_name": "Python 3.12.0 (torch_cuda_128)",
   "language": "python",
   "name": "torch_cuda_128"
  },
  "language_info": {
   "codemirror_mode": {
    "name": "ipython",
    "version": 3
   },
   "file_extension": ".py",
   "mimetype": "text/x-python",
   "name": "python",
   "nbconvert_exporter": "python",
   "pygments_lexer": "ipython3",
   "version": "3.12.0"
  }
 },
 "nbformat": 4,
 "nbformat_minor": 2
}
