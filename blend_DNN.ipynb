{
 "cells": [
  {
   "cell_type": "code",
   "execution_count": null,
   "id": "d9d85085",
   "metadata": {},
   "outputs": [],
   "source": [
    "import torchvision"
   ]
  }
 ],
 "metadata": {
  "kernelspec": {
   "display_name": "Python 3.12.0 (torch_cuda_128)",
   "language": "python",
   "name": "torch_cuda_128"
  },
  "language_info": {
   "name": "python",
   "version": "3.12.0"
  }
 },
 "nbformat": 4,
 "nbformat_minor": 5
}
